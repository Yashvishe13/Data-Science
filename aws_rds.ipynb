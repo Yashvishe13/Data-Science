{
 "cells": [
  {
   "cell_type": "code",
   "execution_count": 4,
   "metadata": {},
   "outputs": [],
   "source": [
    "import pymysql\n",
    "import pandas as pd"
   ]
  },
  {
   "cell_type": "code",
   "execution_count": 5,
   "metadata": {},
   "outputs": [
    {
     "data": {
      "text/html": [
       "<div>\n",
       "<style scoped>\n",
       "    .dataframe tbody tr th:only-of-type {\n",
       "        vertical-align: middle;\n",
       "    }\n",
       "\n",
       "    .dataframe tbody tr th {\n",
       "        vertical-align: top;\n",
       "    }\n",
       "\n",
       "    .dataframe thead th {\n",
       "        text-align: right;\n",
       "    }\n",
       "</style>\n",
       "<table border=\"1\" class=\"dataframe\">\n",
       "  <thead>\n",
       "    <tr style=\"text-align: right;\">\n",
       "      <th></th>\n",
       "      <th>video_id</th>\n",
       "      <th>video_title</th>\n",
       "      <th>upload_date</th>\n",
       "      <th>view_count</th>\n",
       "      <th>like_count</th>\n",
       "      <th>comment_count</th>\n",
       "    </tr>\n",
       "  </thead>\n",
       "  <tbody>\n",
       "    <tr>\n",
       "      <th>0</th>\n",
       "      <td>n8bLutlAfUc</td>\n",
       "      <td>SIDEMEN FAMILY FEUD 2</td>\n",
       "      <td>2022-02-06</td>\n",
       "      <td>6892324.0</td>\n",
       "      <td>386544.0</td>\n",
       "      <td>10559</td>\n",
       "    </tr>\n",
       "    <tr>\n",
       "      <th>1</th>\n",
       "      <td>xP8y54cbyk0</td>\n",
       "      <td>SIDEMEN THAT FINDS $250,000 LAMBORGHINI WINS IT</td>\n",
       "      <td>2022-01-30</td>\n",
       "      <td>6352325.0</td>\n",
       "      <td>385047.0</td>\n",
       "      <td>13557</td>\n",
       "    </tr>\n",
       "    <tr>\n",
       "      <th>2</th>\n",
       "      <td>p1dfV9up_MY</td>\n",
       "      <td>SIDEMEN DRINK ONE COLOUR FOR 24 HOURS CHALLENGE</td>\n",
       "      <td>2022-01-23</td>\n",
       "      <td>8084022.0</td>\n",
       "      <td>328922.0</td>\n",
       "      <td>8370</td>\n",
       "    </tr>\n",
       "    <tr>\n",
       "      <th>3</th>\n",
       "      <td>Q9hy5ZxXaZA</td>\n",
       "      <td>SIDEMEN HIDE AND SEEK IN $20,000,000 SPANISH M...</td>\n",
       "      <td>2022-01-16</td>\n",
       "      <td>6279800.0</td>\n",
       "      <td>323609.0</td>\n",
       "      <td>8247</td>\n",
       "    </tr>\n",
       "    <tr>\n",
       "      <th>4</th>\n",
       "      <td>PeCBE33DYYI</td>\n",
       "      <td>THE GREATEST SIDEMEN MOMENTS 2021</td>\n",
       "      <td>2022-01-09</td>\n",
       "      <td>4907846.0</td>\n",
       "      <td>308143.0</td>\n",
       "      <td>8587</td>\n",
       "    </tr>\n",
       "  </tbody>\n",
       "</table>\n",
       "</div>"
      ],
      "text/plain": [
       "      video_id                                        video_title upload_date  \\\n",
       "0  n8bLutlAfUc                              SIDEMEN FAMILY FEUD 2  2022-02-06   \n",
       "1  xP8y54cbyk0    SIDEMEN THAT FINDS $250,000 LAMBORGHINI WINS IT  2022-01-30   \n",
       "2  p1dfV9up_MY    SIDEMEN DRINK ONE COLOUR FOR 24 HOURS CHALLENGE  2022-01-23   \n",
       "3  Q9hy5ZxXaZA  SIDEMEN HIDE AND SEEK IN $20,000,000 SPANISH M...  2022-01-16   \n",
       "4  PeCBE33DYYI                  THE GREATEST SIDEMEN MOMENTS 2021  2022-01-09   \n",
       "\n",
       "   view_count  like_count  comment_count  \n",
       "0   6892324.0    386544.0          10559  \n",
       "1   6352325.0    385047.0          13557  \n",
       "2   8084022.0    328922.0           8370  \n",
       "3   6279800.0    323609.0           8247  \n",
       "4   4907846.0    308143.0           8587  "
      ]
     },
     "execution_count": 5,
     "metadata": {},
     "output_type": "execute_result"
    }
   ],
   "source": [
    "df = pd.read_csv('Youtube_data.csv', index_col = 0)\n",
    "df.head()"
   ]
  },
  {
   "cell_type": "code",
   "execution_count": 17,
   "metadata": {},
   "outputs": [],
   "source": [
    "def connect_to_db(host_name, username, password, dbname):\n",
    "    try:\n",
    "        conn = pymysql.connect(host=host_name, user= username, password=password, database=dbname, charset='utf8mb4', cursorclass=pymysql.cursors.DictCursor)\n",
    "    except pymysql.OperationalError as e:\n",
    "        raise e\n",
    "    else:\n",
    "        print(\"Connected to database\")\n",
    "    return conn\n",
    "\n",
    "def create_table(curr):\n",
    "    create_table_command = (\"\"\"CREATE TABLE IF NOT EXISTS videos (\n",
    "                    video_id VARCHAR(255) PRIMARY KEY,\n",
    "                    video_title TEXT NOT NULL,\n",
    "                    upload_date DATE NOT NULL,\n",
    "                    view_count INTEGER NOT NULL,\n",
    "                    like_count INTEGER NOT NULL,\n",
    "                    comment_count INTEGER NOT NULL\n",
    "            )\"\"\")\n",
    "\n",
    "    curr.execute(create_table_command)\n",
    "\n",
    "def insert_into_table(curr, video_id, video_title, upload_date, view_count, like_count, comment_count):\n",
    "    insert_into_videos = (\"\"\"INSERT INTO videos (video_id, video_title, upload_date,\n",
    "                        view_count, like_count,comment_count)\n",
    "    VALUES(%s,%s,%s,%s,%s,%s);\"\"\")\n",
    "    row_to_insert = (video_id, video_title, upload_date, view_count, like_count, comment_count)\n",
    "    curr.execute(insert_into_videos, row_to_insert)\n",
    "\n",
    "\n",
    "def update_row(curr, video_id, video_title, view_count, like_count, comment_count):\n",
    "    query = (\"\"\"UPDATE videos\n",
    "            SET video_title = %s,\n",
    "                view_count = %s,\n",
    "                like_count = %s,\n",
    "                dislike_count = %s,\n",
    "                comment_count = %s\n",
    "            WHERE video_id = %s;\"\"\")\n",
    "    vars_to_update = (video_title, view_count, like_count, comment_count, video_id)\n",
    "    curr.execute(query, vars_to_update)\n",
    "\n",
    "\n",
    "def check_if_video_exists(curr, video_id): \n",
    "    query = (\"\"\"SELECT video_id FROM videos WHERE video_id = %s\"\"\")\n",
    "\n",
    "    curr.execute(query, (video_id,))\n",
    "    return curr.fetchone() is not None\n",
    "\n",
    "\n",
    "\n",
    "def truncate_table(curr):\n",
    "    truncate_table = (\"\"\"TRUNCATE TABLE videos\"\"\")\n",
    "\n",
    "    curr.execute(truncate_table)\n",
    "\n",
    "\n",
    "def append_from_df_to_db(curr,df):\n",
    "    for i, row in df.iterrows():\n",
    "        insert_into_table(curr, row['video_id'], row['video_title'], row['upload_date'], row['view_count']\n",
    "                          , row['like_count'], row['comment_count'])\n",
    "\n",
    "\n",
    "def update_db(curr,df):\n",
    "    tmp_df = pd.DataFrame(columns=['video_id', 'video_title', 'upload_date', 'view_count',\n",
    "                                   'like_count', 'comment_count'])\n",
    "    for i, row in df.iterrows():\n",
    "        if check_if_video_exists(curr, row['video_id']): # If video already exists then we will update\n",
    "            update_row(curr,row['video_id'],row['video_title'],row['view_count'],row['like_count'],row['comment_count'])\n",
    "        else: # The video doesn't exists so we will add it to a temp df and append it using append_from_df_to_db\n",
    "            tmp_df = tmp_df.append(row)\n",
    "\n",
    "    return tmp_df\n",
    "\n",
    "def delete_table(curr):\n",
    "    query = (\"\"\"DROP TABLE Videos\"\"\")\n",
    "    curr.execute(query)"
   ]
  },
  {
   "cell_type": "code",
   "execution_count": 6,
   "metadata": {},
   "outputs": [
    {
     "name": "stdout",
     "output_type": "stream",
     "text": [
      "Connected to database\n"
     ]
    }
   ],
   "source": [
    "host_name = 'databaseyt.xxxx.us-east-1.rds.amazonaws.com'\n",
    "dbname = 'xxxx'\n",
    "port = 3306\n",
    "username = 'xxxx'\n",
    "password = 'xxxx'\n",
    "conn = None\n",
    "\n",
    "conn = connect_to_db(host_name, username, password, dbname)\n",
    "curr = conn.cursor()"
   ]
  },
  {
   "cell_type": "code",
   "execution_count": 10,
   "metadata": {},
   "outputs": [],
   "source": [
    "create_table(curr)"
   ]
  },
  {
   "cell_type": "code",
   "execution_count": 7,
   "metadata": {},
   "outputs": [],
   "source": [
    "delete_table(curr)"
   ]
  },
  {
   "cell_type": "code",
   "execution_count": 13,
   "metadata": {},
   "outputs": [],
   "source": [
    "new_vid_df = update_db(curr,df)\n",
    "conn.commit()"
   ]
  },
  {
   "cell_type": "code",
   "execution_count": 14,
   "metadata": {},
   "outputs": [
    {
     "data": {
      "text/html": [
       "<div>\n",
       "<style scoped>\n",
       "    .dataframe tbody tr th:only-of-type {\n",
       "        vertical-align: middle;\n",
       "    }\n",
       "\n",
       "    .dataframe tbody tr th {\n",
       "        vertical-align: top;\n",
       "    }\n",
       "\n",
       "    .dataframe thead th {\n",
       "        text-align: right;\n",
       "    }\n",
       "</style>\n",
       "<table border=\"1\" class=\"dataframe\">\n",
       "  <thead>\n",
       "    <tr style=\"text-align: right;\">\n",
       "      <th></th>\n",
       "      <th>video_id</th>\n",
       "      <th>video_title</th>\n",
       "      <th>upload_date</th>\n",
       "      <th>view_count</th>\n",
       "      <th>like_count</th>\n",
       "      <th>comment_count</th>\n",
       "    </tr>\n",
       "  </thead>\n",
       "  <tbody>\n",
       "    <tr>\n",
       "      <th>0</th>\n",
       "      <td>n8bLutlAfUc</td>\n",
       "      <td>SIDEMEN FAMILY FEUD 2</td>\n",
       "      <td>2022-02-06</td>\n",
       "      <td>6892324.0</td>\n",
       "      <td>386544.0</td>\n",
       "      <td>10559</td>\n",
       "    </tr>\n",
       "    <tr>\n",
       "      <th>1</th>\n",
       "      <td>xP8y54cbyk0</td>\n",
       "      <td>SIDEMEN THAT FINDS $250,000 LAMBORGHINI WINS IT</td>\n",
       "      <td>2022-01-30</td>\n",
       "      <td>6352325.0</td>\n",
       "      <td>385047.0</td>\n",
       "      <td>13557</td>\n",
       "    </tr>\n",
       "    <tr>\n",
       "      <th>2</th>\n",
       "      <td>p1dfV9up_MY</td>\n",
       "      <td>SIDEMEN DRINK ONE COLOUR FOR 24 HOURS CHALLENGE</td>\n",
       "      <td>2022-01-23</td>\n",
       "      <td>8084022.0</td>\n",
       "      <td>328922.0</td>\n",
       "      <td>8370</td>\n",
       "    </tr>\n",
       "    <tr>\n",
       "      <th>3</th>\n",
       "      <td>Q9hy5ZxXaZA</td>\n",
       "      <td>SIDEMEN HIDE AND SEEK IN $20,000,000 SPANISH M...</td>\n",
       "      <td>2022-01-16</td>\n",
       "      <td>6279800.0</td>\n",
       "      <td>323609.0</td>\n",
       "      <td>8247</td>\n",
       "    </tr>\n",
       "    <tr>\n",
       "      <th>4</th>\n",
       "      <td>PeCBE33DYYI</td>\n",
       "      <td>THE GREATEST SIDEMEN MOMENTS 2021</td>\n",
       "      <td>2022-01-09</td>\n",
       "      <td>4907846.0</td>\n",
       "      <td>308143.0</td>\n",
       "      <td>8587</td>\n",
       "    </tr>\n",
       "    <tr>\n",
       "      <th>...</th>\n",
       "      <td>...</td>\n",
       "      <td>...</td>\n",
       "      <td>...</td>\n",
       "      <td>...</td>\n",
       "      <td>...</td>\n",
       "      <td>...</td>\n",
       "    </tr>\n",
       "    <tr>\n",
       "      <th>197</th>\n",
       "      <td>-cE-1EDV2Xs</td>\n",
       "      <td>SIDEMEN PRO CLUBS IS BACK!</td>\n",
       "      <td>2017-01-08</td>\n",
       "      <td>4099356.0</td>\n",
       "      <td>157812.0</td>\n",
       "      <td>7360</td>\n",
       "    </tr>\n",
       "    <tr>\n",
       "      <th>198</th>\n",
       "      <td>jXKOWvsz1To</td>\n",
       "      <td>THE SIDEMEN AWARDS</td>\n",
       "      <td>2016-10-09</td>\n",
       "      <td>2895485.0</td>\n",
       "      <td>83500.0</td>\n",
       "      <td>6874</td>\n",
       "    </tr>\n",
       "    <tr>\n",
       "      <th>199</th>\n",
       "      <td>J_NniTO22_A</td>\n",
       "      <td>SIDEMEN FC VS YOUTUBE ALLSTARS CHARITY FOOTBAL...</td>\n",
       "      <td>2016-06-03</td>\n",
       "      <td>25328450.0</td>\n",
       "      <td>436002.0</td>\n",
       "      <td>36533</td>\n",
       "    </tr>\n",
       "    <tr>\n",
       "      <th>200</th>\n",
       "      <td>5j_fRfbscaE</td>\n",
       "      <td>SIDEMEN FACE PAINTING CHALLENGE</td>\n",
       "      <td>2016-05-28</td>\n",
       "      <td>4114828.0</td>\n",
       "      <td>135618.0</td>\n",
       "      <td>16430</td>\n",
       "    </tr>\n",
       "    <tr>\n",
       "      <th>201</th>\n",
       "      <td>QXyJgxWH6h4</td>\n",
       "      <td>WELCOME TO THE SIDEMEN CHANNEL!</td>\n",
       "      <td>2016-05-15</td>\n",
       "      <td>4203172.0</td>\n",
       "      <td>191579.0</td>\n",
       "      <td>33956</td>\n",
       "    </tr>\n",
       "  </tbody>\n",
       "</table>\n",
       "<p>202 rows × 6 columns</p>\n",
       "</div>"
      ],
      "text/plain": [
       "        video_id                                        video_title  \\\n",
       "0    n8bLutlAfUc                              SIDEMEN FAMILY FEUD 2   \n",
       "1    xP8y54cbyk0    SIDEMEN THAT FINDS $250,000 LAMBORGHINI WINS IT   \n",
       "2    p1dfV9up_MY    SIDEMEN DRINK ONE COLOUR FOR 24 HOURS CHALLENGE   \n",
       "3    Q9hy5ZxXaZA  SIDEMEN HIDE AND SEEK IN $20,000,000 SPANISH M...   \n",
       "4    PeCBE33DYYI                  THE GREATEST SIDEMEN MOMENTS 2021   \n",
       "..           ...                                                ...   \n",
       "197  -cE-1EDV2Xs                         SIDEMEN PRO CLUBS IS BACK!   \n",
       "198  jXKOWvsz1To                                 THE SIDEMEN AWARDS   \n",
       "199  J_NniTO22_A  SIDEMEN FC VS YOUTUBE ALLSTARS CHARITY FOOTBAL...   \n",
       "200  5j_fRfbscaE                    SIDEMEN FACE PAINTING CHALLENGE   \n",
       "201  QXyJgxWH6h4                    WELCOME TO THE SIDEMEN CHANNEL!   \n",
       "\n",
       "    upload_date  view_count  like_count comment_count  \n",
       "0    2022-02-06   6892324.0    386544.0         10559  \n",
       "1    2022-01-30   6352325.0    385047.0         13557  \n",
       "2    2022-01-23   8084022.0    328922.0          8370  \n",
       "3    2022-01-16   6279800.0    323609.0          8247  \n",
       "4    2022-01-09   4907846.0    308143.0          8587  \n",
       "..          ...         ...         ...           ...  \n",
       "197  2017-01-08   4099356.0    157812.0          7360  \n",
       "198  2016-10-09   2895485.0     83500.0          6874  \n",
       "199  2016-06-03  25328450.0    436002.0         36533  \n",
       "200  2016-05-28   4114828.0    135618.0         16430  \n",
       "201  2016-05-15   4203172.0    191579.0         33956  \n",
       "\n",
       "[202 rows x 6 columns]"
      ]
     },
     "execution_count": 14,
     "metadata": {},
     "output_type": "execute_result"
    }
   ],
   "source": [
    "new_vid_df"
   ]
  },
  {
   "cell_type": "code",
   "execution_count": 15,
   "metadata": {},
   "outputs": [
    {
     "data": {
      "text/plain": [
       "video_id         0\n",
       "video_title      0\n",
       "upload_date      0\n",
       "view_count       0\n",
       "like_count       0\n",
       "comment_count    0\n",
       "dtype: int64"
      ]
     },
     "execution_count": 15,
     "metadata": {},
     "output_type": "execute_result"
    }
   ],
   "source": [
    "new_vid_df = new_vid_df.dropna()\n",
    "new_vid_df.isnull().sum()"
   ]
  },
  {
   "cell_type": "code",
   "execution_count": 18,
   "metadata": {},
   "outputs": [],
   "source": [
    "append_from_df_to_db(curr, new_vid_df)\n",
    "conn.commit()"
   ]
  },
  {
   "cell_type": "code",
   "execution_count": 20,
   "metadata": {},
   "outputs": [
    {
     "name": "stdout",
     "output_type": "stream",
     "text": [
      "[{'video_id': '_3b6LZ2xAVs', 'video_title': 'SIDEMEN SPELLING BEE', 'upload_date': datetime.date(2018, 9, 2), 'view_count': 28467766, 'like_count': 689252, 'comment_count': 24624}, {'video_id': '_unSKgaE47E', 'video_title': 'COUNTDOWN: SIDEMEN EDITION', 'upload_date': datetime.date(2019, 4, 22), 'view_count': 18983659, 'like_count': 420379, 'comment_count': 16056}, {'video_id': '-cE-1EDV2Xs', 'video_title': 'SIDEMEN PRO CLUBS IS BACK!', 'upload_date': datetime.date(2017, 1, 8), 'view_count': 4099356, 'like_count': 157812, 'comment_count': 7360}, {'video_id': '-SNXrJDkftY', 'video_title': 'SIDEMENS GOT TALENT', 'upload_date': datetime.date(2021, 3, 28), 'view_count': 13095333, 'like_count': 583134, 'comment_count': 36547}, {'video_id': '0_9fyL_vD4M', 'video_title': 'SIDEMEN WORLD CUP FOOTBALL CHALLENGES', 'upload_date': datetime.date(2018, 7, 15), 'view_count': 20205257, 'like_count': 292076, 'comment_count': 9769}, {'video_id': '09FaAy42iMI', 'video_title': 'SIDEMEN YOGA CHALLENGE', 'upload_date': datetime.date(2018, 5, 9), 'view_count': 12641505, 'like_count': 310725, 'comment_count': 15895}, {'video_id': '0dRvoFfa59w', 'video_title': 'SIDEMEN $15 MILLION MANSION REVERSE HIDE & SEEK', 'upload_date': datetime.date(2019, 8, 25), 'view_count': 14137645, 'like_count': 446723, 'comment_count': 11192}, {'video_id': '0sHAOwGfIXk', 'video_title': 'SIDEMEN EXTREME DESERT RACE *EXPLOSION* | THE SIDEMEN SHOW', 'upload_date': datetime.date(2018, 6, 18), 'view_count': 17111309, 'like_count': 345048, 'comment_count': 12473}, {'video_id': '1IUtR5rl80A', 'video_title': 'STRANGERS ROAST THE SIDEMEN', 'upload_date': datetime.date(2019, 5, 19), 'view_count': 26983099, 'like_count': 633492, 'comment_count': 17309}, {'video_id': '1MNQ7y2eOqc', 'video_title': 'SIDEMEN TINDER IN LOCKDOWN', 'upload_date': datetime.date(2020, 5, 3), 'view_count': 13977288, 'like_count': 674649, 'comment_count': 22763}, {'video_id': '1y5HnUVfeJA', 'video_title': 'SIDEMEN REACT TO TEENS REACT TO SIDEMEN', 'upload_date': datetime.date(2018, 11, 11), 'view_count': 10222010, 'like_count': 279188, 'comment_count': 8233}, {'video_id': '24iIoiVD4Ak', 'video_title': 'THE PRICE IS RIGHT: SIDEMEN EDITION', 'upload_date': datetime.date(2021, 1, 31), 'view_count': 10707497, 'like_count': 411984, 'comment_count': 14533}, {'video_id': '2EEABJp8g6g', 'video_title': 'SIDEMEN BARBER SHOP (GONE WRONG)', 'upload_date': datetime.date(2021, 3, 7), 'view_count': 9592355, 'like_count': 478486, 'comment_count': 18220}, {'video_id': '2ubwlOsUXGs', 'video_title': 'SIDEMEN REACT TO OLD VIDEOS 2', 'upload_date': datetime.date(2019, 1, 27), 'view_count': 8354396, 'like_count': 202713, 'comment_count': 4266}, {'video_id': '3KpvA19BWPk', 'video_title': 'SIDEMEN BURN 70,000 CALORIES IN 24 HOURS CHALLENGE', 'upload_date': datetime.date(2019, 8, 4), 'view_count': 19299331, 'like_count': 423186, 'comment_count': 19785}, {'video_id': '3p4SDblXHU8', 'video_title': 'SHOCKING TRY NOT TO LAUGH CHALLENGE', 'upload_date': datetime.date(2018, 12, 2), 'view_count': 18347048, 'like_count': 434303, 'comment_count': 12205}, {'video_id': '3xR1uRU1O8Q', 'video_title': 'SIDEMEN HIDE AND SEEK IN THE MOST EXPENSIVE HOUSE IN LONDON', 'upload_date': datetime.date(2021, 8, 8), 'view_count': 11041237, 'like_count': 511424, 'comment_count': 17752}, {'video_id': '4-vlO7leAko', 'video_title': 'SIDEMEN 100,000 CALORIES IN 24 HOURS CHALLENGE (USA EDITION)', 'upload_date': datetime.date(2019, 11, 17), 'view_count': 21725242, 'like_count': 435024, 'comment_count': 16545}, {'video_id': '5fVkjhmDfRY', 'video_title': 'SIDEMEN 1 VS 100', 'upload_date': datetime.date(2020, 7, 5), 'view_count': 12610220, 'like_count': 348889, 'comment_count': 14418}, {'video_id': '5hNMaaM7Log', 'video_title': 'SIDEMEN DEAL OR NO DEAL', 'upload_date': datetime.date(2018, 4, 22), 'view_count': 9666398, 'like_count': 260736, 'comment_count': 6607}, {'video_id': '5iyfAxnnaBA', 'video_title': 'SIDEMEN LEARN TO DANCE ft. JABBAWOCKEEZ', 'upload_date': datetime.date(2019, 5, 26), 'view_count': 9375160, 'like_count': 335036, 'comment_count': 13029}, {'video_id': '5j_fRfbscaE', 'video_title': 'SIDEMEN FACE PAINTING CHALLENGE', 'upload_date': datetime.date(2016, 5, 28), 'view_count': 4114828, 'like_count': 135618, 'comment_count': 16430}, {'video_id': '5NxKNrfqUjs', 'video_title': 'SIDEMEN $20,000 VS $200 HOLIDAY (EUROPE EDITION)', 'upload_date': datetime.date(2019, 10, 27), 'view_count': 77772308, 'like_count': 1210060, 'comment_count': 71421}, {'video_id': '6eCIUWr_byU', 'video_title': 'SIDEMEN GIANT INFLATABLE SLIP AND SLIDE CHALLENGE', 'upload_date': datetime.date(2019, 3, 24), 'view_count': 9075139, 'like_count': 217822, 'comment_count': 3859}, {'video_id': '6ojjvi5gUaU', 'video_title': 'SIDEMEN ANSWER THE MOST SEARCHED GOOGLE QUESTIONS', 'upload_date': datetime.date(2018, 3, 18), 'view_count': 9779780, 'like_count': 252803, 'comment_count': 7179}, {'video_id': '6ZCtuKvBYcw', 'video_title': 'SIDEMEN ARE YOU SMARTER THAN A 10 YEAR OLD', 'upload_date': datetime.date(2021, 4, 18), 'view_count': 12324326, 'like_count': 480613, 'comment_count': 23371}, {'video_id': '7CjamcUZsmA', 'video_title': 'SIDEMEN SPEND $100,000 ON FANS', 'upload_date': datetime.date(2021, 7, 11), 'view_count': 7786870, 'like_count': 494452, 'comment_count': 15628}, {'video_id': '7Oa-GtZE9tE', 'video_title': 'SIDEMEN $100,000 HOT VS COLD HOLIDAY', 'upload_date': datetime.date(2021, 12, 12), 'view_count': 12551842, 'like_count': 520262, 'comment_count': 20559}, {'video_id': '7TbWYJ_01fs', 'video_title': 'SIDEMEN WINTER OLYMPICS', 'upload_date': datetime.date(2018, 12, 16), 'view_count': 5408545, 'like_count': 142734, 'comment_count': 3110}, {'video_id': '8EbKndcwPG0', 'video_title': 'SIDEMEN TIKTOK CHALLENGE', 'upload_date': datetime.date(2020, 4, 26), 'view_count': 19507593, 'like_count': 530466, 'comment_count': 17024}, {'video_id': '8ZgFXXY3bu0', 'video_title': 'SIDEMEN HIDE AND SEEK IN A NUCLEAR BUNKER', 'upload_date': datetime.date(2021, 10, 3), 'view_count': 8521175, 'like_count': 374601, 'comment_count': 11499}, {'video_id': '8zSY6zYILVY', 'video_title': 'SIDEMEN GUESS THE MILLIONAIRE', 'upload_date': datetime.date(2021, 5, 9), 'view_count': 7900138, 'like_count': 371180, 'comment_count': 11557}, {'video_id': '9anoXkLeS1g', 'video_title': 'SIDEMEN CHRISTMAS MUKBANG', 'upload_date': datetime.date(2021, 12, 26), 'view_count': 7821207, 'like_count': 291284, 'comment_count': 6836}, {'video_id': '9NLjHE_vP4A', 'video_title': 'SIDEMEN HIDE & SEEK IN A DUNGEON', 'upload_date': datetime.date(2021, 4, 25), 'view_count': 7861417, 'like_count': 399455, 'comment_count': 12401}, {'video_id': 'aAOC71qqXxM', 'video_title': 'SIDEMEN TINDER IN REAL LIFE 2', 'upload_date': datetime.date(2019, 8, 18), 'view_count': 59942104, 'like_count': 1256032, 'comment_count': 53076}, {'video_id': 'aKE6JSnQc7s', 'video_title': 'SIDEMEN AMONG US IN REAL LIFE 2', 'upload_date': datetime.date(2020, 11, 22), 'view_count': 16455374, 'like_count': 523031, 'comment_count': 20314}, {'video_id': 'AMKDVfucPfA', 'video_title': 'HOW HARD CAN THE SIDEMEN PUNCH?', 'upload_date': datetime.date(2018, 7, 29), 'view_count': 29519158, 'like_count': 492415, 'comment_count': 13453}, {'video_id': 'arXJOceVJ7w', 'video_title': 'SIDEMEN EXTREME BAKE OFF', 'upload_date': datetime.date(2021, 10, 31), 'view_count': 11102277, 'like_count': 353515, 'comment_count': 13394}, {'video_id': 'Av5NJm3uFgg', 'video_title': 'SIDEMEN SPEND $100,000 IN 1 HOUR CHALLENGE', 'upload_date': datetime.date(2019, 11, 11), 'view_count': 19219396, 'like_count': 585749, 'comment_count': 39765}, {'video_id': 'b8hpy-W5PiU', 'video_title': 'SIDEMEN MOST WEIGHT GAINED IN 24 HOURS CHALLENGE', 'upload_date': datetime.date(2020, 2, 16), 'view_count': 24135376, 'like_count': 733497, 'comment_count': 28911}, {'video_id': 'BbBkBSHufPA', 'video_title': 'THE SIDEMEN BEEF BEGINS (SDMN Clubs)', 'upload_date': datetime.date(2017, 1, 29), 'view_count': 2837260, 'like_count': 64242, 'comment_count': 2417}, {'video_id': 'bgqRQqYAYaQ', 'video_title': 'SIDEMEN HOMEMADE OLYMPICS', 'upload_date': datetime.date(2018, 4, 29), 'view_count': 16124870, 'like_count': 293263, 'comment_count': 5509}, {'video_id': 'BJInVqBWH-o', 'video_title': 'SIDEMEN PUNISHMENT BASKETBALL', 'upload_date': datetime.date(2020, 8, 23), 'view_count': 12277147, 'like_count': 480839, 'comment_count': 27784}, {'video_id': 'Bm2We_p5Mzo', 'video_title': 'SIDEMEN BIG FAT QUIZ OF THE YEAR 2020', 'upload_date': datetime.date(2020, 12, 27), 'view_count': 11896838, 'like_count': 408329, 'comment_count': 14114}, {'video_id': 'BvdlZsK5ZWY', 'video_title': 'SIDEMEN EXTREME COOK OFF', 'upload_date': datetime.date(2021, 6, 13), 'view_count': 13975563, 'like_count': 599080, 'comment_count': 51586}, {'video_id': 'bVv3PW8DCZI', 'video_title': 'SIDEMEN $100 vs $10,000 BIRTHDAY PARTY', 'upload_date': datetime.date(2021, 9, 5), 'view_count': 12493915, 'like_count': 451104, 'comment_count': 32008}, {'video_id': 'C5Rm6rDbF20', 'video_title': 'SIDEMEN GIANT SLIP AND SLIDE FOOTBALL', 'upload_date': datetime.date(2018, 5, 13), 'view_count': 29032467, 'like_count': 538768, 'comment_count': 14261}, {'video_id': 'cDXzQvjP4wo', 'video_title': 'THE SIDEMEN SHOW (Exclusive Teaser Trailer)', 'upload_date': datetime.date(2018, 5, 23), 'view_count': 1675686, 'like_count': 103146, 'comment_count': 3342}, {'video_id': 'CHPa8bLgnkU', 'video_title': 'SIDEMEN MONOPOLY IN REAL LIFE', 'upload_date': datetime.date(2020, 2, 2), 'view_count': 24542093, 'like_count': 369591, 'comment_count': 14459}, {'video_id': 'ciODljQwCTM', 'video_title': 'THE CHASE: SIDEMEN EDITION', 'upload_date': datetime.date(2019, 7, 21), 'view_count': 24411193, 'like_count': 498877, 'comment_count': 21516}, {'video_id': 'CksForaQ98o', 'video_title': 'SIDEMEN SUMO FIGHT', 'upload_date': datetime.date(2018, 4, 8), 'view_count': 11218180, 'like_count': 331678, 'comment_count': 12879}, {'video_id': 'cWw3vEN9l_M', 'video_title': 'SIDEMEN BLIND DATING 3', 'upload_date': datetime.date(2020, 5, 24), 'view_count': 18079836, 'like_count': 611404, 'comment_count': 32554}, {'video_id': 'd0pJ20YAVFY', 'video_title': 'THE WHEEL: SIDEMEN EDITION', 'upload_date': datetime.date(2021, 6, 27), 'view_count': 18830740, 'like_count': 712009, 'comment_count': 26165}, {'video_id': 'Da1XQVbwwXQ', 'video_title': 'SIDEMEN MOST WEIGHT LOST IN 24 HOURS CHALLENGE', 'upload_date': datetime.date(2021, 4, 11), 'view_count': 8379571, 'like_count': 329848, 'comment_count': 14588}, {'video_id': 'dbYk8qH9Kjs', 'video_title': 'SIDEMEN SUMO OLYMPICS', 'upload_date': datetime.date(2019, 9, 1), 'view_count': 8817266, 'like_count': 338239, 'comment_count': 13421}, {'video_id': 'DE2xhP2u1co', 'video_title': 'SIDEMEN $100,000 SPLIT OR STEAL', 'upload_date': datetime.date(2020, 10, 4), 'view_count': 14684865, 'like_count': 582981, 'comment_count': 27152}, {'video_id': 'DE8qYM74B2U', 'video_title': 'SIDEMEN EXPLORE HAUNTED TUNNELS (WARNING)', 'upload_date': datetime.date(2018, 8, 5), 'view_count': 10135501, 'like_count': 285782, 'comment_count': 12439}, {'video_id': 'dFrfBEJfkjc', 'video_title': 'SIDEMEN GUESS THE FAKE COUPLE', 'upload_date': datetime.date(2021, 2, 14), 'view_count': 9752504, 'like_count': 481154, 'comment_count': 14523}, {'video_id': 'dKfCiy876eE', 'video_title': 'SIDEMEN EAT FOOD FROM DIFFERENT COUNTRIES 24 HOURS CHALLENGE', 'upload_date': datetime.date(2021, 3, 14), 'view_count': 21274046, 'like_count': 537460, 'comment_count': 29079}, {'video_id': 'DSEnADJ-tJ0', 'video_title': 'SIDEMEN HIDE & SEEK IN THE WORLD&#39;S BIGGEST TOY STORE', 'upload_date': datetime.date(2021, 11, 28), 'view_count': 7682180, 'like_count': 355173, 'comment_count': 9614}, {'video_id': 'DVLUOpyshLU', 'video_title': 'SIDEMEN DRAGONS DEN (SHARK TANK)', 'upload_date': datetime.date(2020, 3, 9), 'view_count': 11944080, 'like_count': 462367, 'comment_count': 29324}, {'video_id': 'E_8kjvXPZIM', 'video_title': 'SIDEMEN $10,000 vs $100 CAMPING', 'upload_date': datetime.date(2021, 9, 19), 'view_count': 19423118, 'like_count': 484006, 'comment_count': 26889}, {'video_id': 'EFxuUSpO0Zg', 'video_title': 'SIDEMEN $100,000 EXTREME TAG', 'upload_date': datetime.date(2021, 11, 14), 'view_count': 10574010, 'like_count': 571984, 'comment_count': 16926}, {'video_id': 'EH-XSHh9oio', 'video_title': 'SIDEMEN PAINTBALL HIDE AND SEEK', 'upload_date': datetime.date(2020, 3, 15), 'view_count': 11990800, 'like_count': 373594, 'comment_count': 14009}, {'video_id': 'ei1ho-tBX44', 'video_title': 'STRANGERS ROAST THE SIDEMEN 2', 'upload_date': datetime.date(2020, 7, 12), 'view_count': 8627162, 'like_count': 425183, 'comment_count': 15706}, {'video_id': 'EiSHM7xjRAA', 'video_title': 'SIDEMEN HIDE AND SEEK IN A PRISON', 'upload_date': datetime.date(2020, 9, 20), 'view_count': 15792166, 'like_count': 600048, 'comment_count': 28710}, {'video_id': 'epbpv9pIkLA', 'video_title': 'SIDEMEN EAT THE HOTTEST WINGS CHALLENGE', 'upload_date': datetime.date(2020, 8, 16), 'view_count': 23081690, 'like_count': 922234, 'comment_count': 33503}, {'video_id': 'Etu_3PGEeX4', 'video_title': 'SIDEMEN IMPOSSIBLE $100,000 FOOTGOLF CHALLENGE', 'upload_date': datetime.date(2021, 5, 23), 'view_count': 11452835, 'like_count': 348603, 'comment_count': 13982}, {'video_id': 'ex1iFyfLUTM', 'video_title': 'SIDEMEN TINDER IN REAL LIFE (YOUTUBE EDITION)', 'upload_date': datetime.date(2020, 3, 1), 'view_count': 58610791, 'like_count': 1730698, 'comment_count': 65022}, {'video_id': 'fFCr7giy8eI', 'video_title': 'YOU LAUGH YOU LOSE - SIDEMEN DO BAD JOKES', 'upload_date': datetime.date(2018, 1, 21), 'view_count': 15346650, 'like_count': 398487, 'comment_count': 8049}, {'video_id': 'Fnp2em6txUY', 'video_title': 'THE WEAKEST LINK: SIDEMEN EDITION 2', 'upload_date': datetime.date(2020, 11, 29), 'view_count': 16523578, 'like_count': 540257, 'comment_count': 21250}, {'video_id': 'Fo4sYk-Byh8', 'video_title': 'SIDEMEN ONE QUESTION', 'upload_date': datetime.date(2019, 3, 17), 'view_count': 7324599, 'like_count': 249220, 'comment_count': 6048}, {'video_id': 'Fq3VFCezuzI', 'video_title': 'SIDEMEN FC VS YOUTUBE ALLSTARS LIVESTREAM', 'upload_date': datetime.date(2017, 5, 21), 'view_count': 14076706, 'like_count': 214200, 'comment_count': 6691}, {'video_id': 'fuVS2H6AYWE', 'video_title': 'SIDEMEN EAT 70,000 CALORIES IN 24 HOURS CHALLENGE', 'upload_date': datetime.date(2019, 2, 17), 'view_count': 39113249, 'like_count': 601687, 'comment_count': 32265}, {'video_id': 'G9b7clmSd4g', 'video_title': 'SIDEMEN SILENT LIBRARY', 'upload_date': datetime.date(2021, 11, 7), 'view_count': 11902700, 'like_count': 673256, 'comment_count': 23769}, {'video_id': 'GfWL0-dI3Dc', 'video_title': 'SIDEMEN PUB GOLF (EUROPE EDITION)', 'upload_date': datetime.date(2021, 12, 5), 'view_count': 8697494, 'like_count': 401835, 'comment_count': 11950}, {'video_id': 'gHhl1yzCDdI', 'video_title': 'SIDEMEN CHRISTMAS MUKBANG', 'upload_date': datetime.date(2020, 12, 20), 'view_count': 17332539, 'like_count': 672093, 'comment_count': 19947}, {'video_id': 'gmqR4E1-5ZA', 'video_title': 'SIDEMEN TOP 100 BEST MOMENTS', 'upload_date': datetime.date(2019, 1, 6), 'view_count': 14736100, 'like_count': 193169, 'comment_count': 3087}, {'video_id': 'GS_GuSu2Hrs', 'video_title': 'SIDEMEN GO BACK TO SCHOOL', 'upload_date': datetime.date(2019, 6, 16), 'view_count': 36494228, 'like_count': 822906, 'comment_count': 43320}, {'video_id': 'gXcL-FK4kE8', 'video_title': 'SIDEMEN $10,000 REAL LIFE BINGO', 'upload_date': datetime.date(2019, 11, 24), 'view_count': 14216541, 'like_count': 350125, 'comment_count': 11694}, {'video_id': 'GzdNMzvhNXY', 'video_title': 'SIDEMEN VS 100 KIDS FOOTBALL MATCH', 'upload_date': datetime.date(2021, 9, 26), 'view_count': 12262587, 'like_count': 475711, 'comment_count': 22347}, {'video_id': 'H3mnP9K3Kis', 'video_title': 'SIDEMEN $50,000 TIPPING POINT', 'upload_date': datetime.date(2019, 12, 1), 'view_count': 9009804, 'like_count': 271601, 'comment_count': 12792}, {'video_id': 'Hakeo9l-uNU', 'video_title': 'SIDEMEN BECOME PARENTS FOR 24 HOURS', 'upload_date': datetime.date(2019, 7, 28), 'view_count': 23095278, 'like_count': 593946, 'comment_count': 33902}, {'video_id': 'hdAbpuYB400', 'video_title': 'SIDEMEN vs W2S FOOTBALL CHALLENGE', 'upload_date': datetime.date(2020, 6, 21), 'view_count': 13345925, 'like_count': 476709, 'comment_count': 17749}, {'video_id': 'hiehLFrTlRs', 'video_title': '20 WOMEN VS 1 SIDEMEN: KSI EDITION', 'upload_date': datetime.date(2021, 12, 19), 'view_count': 13749195, 'like_count': 667906, 'comment_count': 23428}, {'video_id': 'HKMuWVlqM6c', 'video_title': 'KSI VS THE SIDEMEN', 'upload_date': datetime.date(2018, 9, 16), 'view_count': 19122352, 'like_count': 606242, 'comment_count': 29973}, {'video_id': 'HpgLrCcbLLo', 'video_title': 'SIDEMEN EATING ONE COLOUR FOOD FOR 24 HOURS CHALLENGE', 'upload_date': datetime.date(2020, 1, 19), 'view_count': 22041833, 'like_count': 509001, 'comment_count': 23071}, {'video_id': 'iHtk8aXlJTc', 'video_title': 'SIDEMEN TRY JAMES CHARLES MAKE UP TUTORIAL', 'upload_date': datetime.date(2019, 2, 3), 'view_count': 8646425, 'like_count': 244395, 'comment_count': 11054}, {'video_id': 'IX7JTmv6TYw', 'video_title': 'SIDEMEN BLIND DATING 2', 'upload_date': datetime.date(2020, 2, 9), 'view_count': 27736033, 'like_count': 828120, 'comment_count': 24695}, {'video_id': 'J_NniTO22_A', 'video_title': 'SIDEMEN FC VS YOUTUBE ALLSTARS CHARITY FOOTBALL MATCH LIVESTREAM', 'upload_date': datetime.date(2016, 6, 3), 'view_count': 25328450, 'like_count': 436002, 'comment_count': 36533}, {'video_id': 'jXKOWvsz1To', 'video_title': 'THE SIDEMEN AWARDS', 'upload_date': datetime.date(2016, 10, 9), 'view_count': 2895485, 'like_count': 83500, 'comment_count': 6874}, {'video_id': 'K33abKnKpEo', 'video_title': 'SIDEMEN PUNISHMENT POOL (INSANE)', 'upload_date': datetime.date(2018, 11, 25), 'view_count': 15316769, 'like_count': 271843, 'comment_count': 6604}, {'video_id': 'kBiYsRwnsBQ', 'video_title': 'TOP 100 SIDEMEN MOMENTS 2020', 'upload_date': datetime.date(2021, 1, 3), 'view_count': 6238994, 'like_count': 268369, 'comment_count': 6197}, {'video_id': 'KF8I09WBtEI', 'video_title': 'SIDEMEN TINDER IN REAL LIFE 3', 'upload_date': datetime.date(2021, 2, 7), 'view_count': 58438414, 'like_count': 1729292, 'comment_count': 82019}, {'video_id': 'KIo2eTns-II', 'video_title': 'SIDEMEN DONATE $10,000 TO TWITCH STREAMERS', 'upload_date': datetime.date(2019, 6, 30), 'view_count': 8746308, 'like_count': 272776, 'comment_count': 6680}, {'video_id': 'KJnMF96K5pI', 'video_title': 'SIDEMEN AMONG US IN REAL LIFE', 'upload_date': datetime.date(2020, 10, 25), 'view_count': 16856347, 'like_count': 750497, 'comment_count': 30163}, {'video_id': 'Ko25YvWebVU', 'video_title': 'HAUNTED CLOWN MAZE HIDE AND SEEK', 'upload_date': datetime.date(2018, 10, 28), 'view_count': 7572272, 'like_count': 218238, 'comment_count': 8043}, {'video_id': 'kQHe7GE1fTQ', 'video_title': 'SIDEMEN LIE DETECTOR', 'upload_date': datetime.date(2020, 1, 12), 'view_count': 25947196, 'like_count': 772392, 'comment_count': 20769}, {'video_id': 'kxNkKBBM6ik', 'video_title': 'SIDEMEN ICE DUNK TANK CHALLENGE', 'upload_date': datetime.date(2019, 10, 20), 'view_count': 14696380, 'like_count': 402764, 'comment_count': 10164}, {'video_id': 'LgIop9jKNv8', 'video_title': 'SIDEMEN 80,000 CALORIES BATTLE', 'upload_date': datetime.date(2020, 11, 15), 'view_count': 13514200, 'like_count': 444079, 'comment_count': 17250}, {'video_id': 'LLumNtcSePs', 'video_title': 'SIDEMEN $10,000 vs $100 CHRISTMAS DAY', 'upload_date': datetime.date(2019, 12, 9), 'view_count': 19334385, 'like_count': 394953, 'comment_count': 19703}, {'video_id': 'lNo2tQ6QfNg', 'video_title': 'SIDEMEN $10,000 vs $100 NEW YEARS EVE', 'upload_date': datetime.date(2022, 1, 2), 'view_count': 9713975, 'like_count': 424737, 'comment_count': 13150}, {'video_id': 'Lp-h_lKC3zQ', 'video_title': 'SIDEMEN BOX OF LIES', 'upload_date': datetime.date(2019, 4, 7), 'view_count': 22794175, 'like_count': 432415, 'comment_count': 6976}, {'video_id': 'lw68FF0GEX8', 'video_title': 'JEOPARDY: SIDEMEN EDITION', 'upload_date': datetime.date(2020, 8, 9), 'view_count': 14777643, 'like_count': 341784, 'comment_count': 10690}, {'video_id': 'lWPGKAAfgI8', 'video_title': 'SIDEMEN FAMILY FORTUNES', 'upload_date': datetime.date(2018, 11, 18), 'view_count': 19146025, 'like_count': 419413, 'comment_count': 10514}, {'video_id': 'm5Z4D2kzwao', 'video_title': 'SIDEMEN HIDE AND SEEK IN BETA SQUAD HOUSE', 'upload_date': datetime.date(2020, 12, 6), 'view_count': 14948841, 'like_count': 661473, 'comment_count': 20022}, {'video_id': 'M71Zo0CGbAo', 'video_title': 'SIDEMEN $10,000 VS $100 HOTEL', 'upload_date': datetime.date(2021, 6, 6), 'view_count': 17786718, 'like_count': 612788, 'comment_count': 30672}, {'video_id': 'mevxWTQwEa8', 'video_title': 'SIDEMEN HAVE 5 MINUTES TO SPEND $100,000', 'upload_date': datetime.date(2021, 1, 10), 'view_count': 23603140, 'like_count': 732574, 'comment_count': 25837}, {'video_id': 'MMOSu0AGbqM', 'video_title': 'SIDEMEN $50,000 TRIVIAL PURSUIT IN REAL LIFE!', 'upload_date': datetime.date(2020, 10, 18), 'view_count': 12952125, 'like_count': 369572, 'comment_count': 13845}, {'video_id': 'MN_WT55jaDU', 'video_title': 'SIDEMEN $900 MILLION CRUISE SHIP HIDE & SEEK!', 'upload_date': datetime.date(2019, 3, 10), 'view_count': 15652168, 'like_count': 395699, 'comment_count': 12944}, {'video_id': 'mSo5rzUa3Ko', 'video_title': 'SIDEMEN BLIND DATING', 'upload_date': datetime.date(2019, 7, 14), 'view_count': 23859016, 'like_count': 620448, 'comment_count': 23180}, {'video_id': 'MUiDQ7trALg', 'video_title': 'SIDEMEN SPILL YOUR GUTS OR FILL YOUR GUTS', 'upload_date': datetime.date(2020, 2, 23), 'view_count': 25029786, 'like_count': 603237, 'comment_count': 28240}, {'video_id': 'N_xGrRni9E4', 'video_title': 'SIDEMEN LEARN 24 SKILLS IN 24 HOURS', 'upload_date': datetime.date(2020, 4, 12), 'view_count': 12858300, 'like_count': 318342, 'comment_count': 20164}, {'video_id': 'N-v6Ui1Jtrs', 'video_title': 'SIDEMEN SPEND $100,000 ON EACH OTHER IN 1 HOUR', 'upload_date': datetime.date(2020, 7, 26), 'view_count': 23013666, 'like_count': 663096, 'comment_count': 27507}, {'video_id': 'n3KmVsf-luY', 'video_title': 'SIDEMEN CROSSBAR CHALLENGE', 'upload_date': datetime.date(2017, 3, 12), 'view_count': 12632864, 'like_count': 244187, 'comment_count': 8914}, {'video_id': 'n5njdxByYuw', 'video_title': 'SIDEMEN SPEED DATING (EXTREME)', 'upload_date': datetime.date(2021, 8, 29), 'view_count': 9706488, 'like_count': 525600, 'comment_count': 25035}, {'video_id': 'N5nPOX5MNds', 'video_title': 'SIDEMEN SPELLING BEE 2', 'upload_date': datetime.date(2020, 5, 10), 'view_count': 14439804, 'like_count': 522428, 'comment_count': 16951}, {'video_id': 'n8bLutlAfUc', 'video_title': 'SIDEMEN FAMILY FEUD 2', 'upload_date': datetime.date(2022, 2, 6), 'view_count': 6892324, 'like_count': 386544, 'comment_count': 10559}, {'video_id': 'nCzd60r8004', 'video_title': 'SIMON IS QUITTING THE SIDEMEN?', 'upload_date': datetime.date(2017, 2, 5), 'view_count': 2934869, 'like_count': 66335, 'comment_count': 2600}, {'video_id': 'NSu-QVtpvIc', 'video_title': 'SIDEMEN $50,000 A-Z DRINKING CHALLENGE (GONE WRONG)', 'upload_date': datetime.date(2021, 5, 2), 'view_count': 13386700, 'like_count': 496477, 'comment_count': 18999}, {'video_id': 'NUxxD7ww8JU', 'video_title': 'SIDEMEN SPEED DATING', 'upload_date': datetime.date(2019, 11, 3), 'view_count': 27494665, 'like_count': 686328, 'comment_count': 26469}, {'video_id': 'nvvNnkEAG5w', 'video_title': 'SIDEMEN TRY EXPENSIVE VS CHEAP FOOD!', 'upload_date': datetime.date(2020, 11, 8), 'view_count': 11545509, 'like_count': 483904, 'comment_count': 12269}, {'video_id': 'O5DaEUolvRs', 'video_title': 'SIDEMEN $50,000 RACE ACROSS THE UK', 'upload_date': datetime.date(2020, 8, 30), 'view_count': 15388934, 'like_count': 1184999, 'comment_count': 22093}, {'video_id': 'O5HvD9MRwBo', 'video_title': 'SIDEMEN PUB GOLF (GONE WRONG)', 'upload_date': datetime.date(2020, 9, 6), 'view_count': 20864017, 'like_count': 602764, 'comment_count': 23522}, {'video_id': 'OchWt4TBhLw', 'video_title': 'SIDEMEN HIDE AND SEEK IN A CASTLE', 'upload_date': datetime.date(2021, 1, 24), 'view_count': 9139802, 'like_count': 451772, 'comment_count': 16124}, {'video_id': 'oj6C9MJ89ho', 'video_title': 'SIDEMEN BLIND DATING 4', 'upload_date': datetime.date(2020, 12, 13), 'view_count': 20499590, 'like_count': 720075, 'comment_count': 24967}, {'video_id': 'OmtYFXsqvXI', 'video_title': 'SIDEMEN WHO WANTS TO BE A BILLIONAIRE', 'upload_date': datetime.date(2018, 9, 9), 'view_count': 12714229, 'like_count': 265649, 'comment_count': 12130}, {'video_id': 'oois7rlbO8g', 'video_title': '20 WOMEN VS 1 SIDEMEN: ETHAN EDITION', 'upload_date': datetime.date(2020, 11, 1), 'view_count': 17107468, 'like_count': 864168, 'comment_count': 40489}, {'video_id': 'OVStLXNdA6E', 'video_title': 'SIDEMEN ALL SPORTS GOLF BATTLE', 'upload_date': datetime.date(2021, 4, 4), 'view_count': 10779617, 'like_count': 414937, 'comment_count': 15291}, {'video_id': 'P-e_bF4U_4w', 'video_title': 'WOMEN RATE THE MOST ATTRACTIVE SIDEMEN', 'upload_date': datetime.date(2021, 8, 22), 'view_count': 12071326, 'like_count': 489268, 'comment_count': 24054}, {'video_id': 'p1dfV9up_MY', 'video_title': 'SIDEMEN DRINK ONE COLOUR FOR 24 HOURS CHALLENGE', 'upload_date': datetime.date(2022, 1, 23), 'view_count': 8084022, 'like_count': 328922, 'comment_count': 8370}, {'video_id': 'p4JeRmYxGIg', 'video_title': 'SIDEMEN vs ONLYFANS OLYMPICS', 'upload_date': datetime.date(2021, 9, 12), 'view_count': 11628191, 'like_count': 555272, 'comment_count': 27665}, {'video_id': 'pCSkExy1ewM', 'video_title': 'SIDEMEN EXTREME FISHING vs LOGAN PAUL', 'upload_date': datetime.date(2021, 7, 18), 'view_count': 18579229, 'like_count': 938993, 'comment_count': 42701}, {'video_id': 'PeCBE33DYYI', 'video_title': 'THE GREATEST SIDEMEN MOMENTS 2021', 'upload_date': datetime.date(2022, 1, 9), 'view_count': 4907846, 'like_count': 308143, 'comment_count': 8587}, {'video_id': 'pHQV1dzpVk0', 'video_title': 'SIDEMEN 6-A-SIDE FOOTBALL *HORRIFIC INJURY*', 'upload_date': datetime.date(2018, 10, 15), 'view_count': 10488026, 'like_count': 298236, 'comment_count': 7324}, {'video_id': 'q1aelPRtZVE', 'video_title': 'SIDEMEN 100,000 CALORIE BATTLE - THE REMATCH!', 'upload_date': datetime.date(2021, 1, 17), 'view_count': 17314010, 'like_count': 508116, 'comment_count': 20434}, {'video_id': 'Q9hy5ZxXaZA', 'video_title': 'SIDEMEN HIDE AND SEEK IN $20,000,000 SPANISH MANSION', 'upload_date': datetime.date(2022, 1, 16), 'view_count': 6279800, 'like_count': 323609, 'comment_count': 8247}, {'video_id': 'QD-fLwfBc30', 'video_title': 'SIDEMEN GIANT FOOTBALL DARTS', 'upload_date': datetime.date(2018, 2, 25), 'view_count': 20940664, 'like_count': 326675, 'comment_count': 5475}, {'video_id': 'Qd-JUPihzVc', 'video_title': 'SIDEMEN GO CAMPING', 'upload_date': datetime.date(2020, 7, 19), 'view_count': 18592819, 'like_count': 652280, 'comment_count': 28122}, {'video_id': 'QlY44reJJyU', 'video_title': 'SIDEMEN READ MEAN TWEETS', 'upload_date': datetime.date(2018, 1, 7), 'view_count': 14603793, 'like_count': 377274, 'comment_count': 10470}, {'video_id': 'qrtWADNaC0g', 'video_title': 'SIDEMEN WHISPER CHALLENGE', 'upload_date': datetime.date(2018, 2, 18), 'view_count': 10809947, 'like_count': 255514, 'comment_count': 4241}, {'video_id': 'QUYLG94VWb4', 'video_title': 'SIDEMEN BOWLING (GONE WRONG)', 'upload_date': datetime.date(2018, 7, 22), 'view_count': 15109491, 'like_count': 369057, 'comment_count': 9051}, {'video_id': 'QXyJgxWH6h4', 'video_title': 'WELCOME TO THE SIDEMEN CHANNEL!', 'upload_date': datetime.date(2016, 5, 15), 'view_count': 4203172, 'like_count': 191579, 'comment_count': 33956}, {'video_id': 'QzB2CP1kv4Q', 'video_title': 'SIDEMEN ABANDONED CHALLENGE', 'upload_date': datetime.date(2021, 10, 24), 'view_count': 17481958, 'like_count': 465935, 'comment_count': 15917}, {'video_id': 'r0-PQTFpfIg', 'video_title': 'SIDEMEN GO BACK TO ONLINE SCHOOL', 'upload_date': datetime.date(2020, 5, 31), 'view_count': 14611741, 'like_count': 519457, 'comment_count': 20514}, {'video_id': 'RC-yz4HV1Hk', 'video_title': 'SIDEMEN REUNITED MUKBANG', 'upload_date': datetime.date(2020, 6, 28), 'view_count': 33829293, 'like_count': 1392359, 'comment_count': 42677}, {'video_id': 'rjZxS_oivrU', 'video_title': 'SIDEMEN VS ARSENAL WOMENS TEAM', 'upload_date': datetime.date(2021, 5, 30), 'view_count': 15043784, 'like_count': 635292, 'comment_count': 28312}, {'video_id': 'rR7y4dyGvTk', 'video_title': 'SIDEMEN $10,000 VS $100 HOLIDAY', 'upload_date': datetime.date(2019, 3, 31), 'view_count': 48356253, 'like_count': 1070618, 'comment_count': 49005}, {'video_id': 'rtue4S9f2k4', 'video_title': 'EXTREME SIDEMEN FEAR PONG', 'upload_date': datetime.date(2018, 2, 11), 'view_count': 15242669, 'like_count': 313971, 'comment_count': 7022}, {'video_id': 'rWk98tVr0ME', 'video_title': 'SIDEMEN ULTIMATE FOOTBALL CHALLENGE!', 'upload_date': datetime.date(2018, 3, 13), 'view_count': 15234749, 'like_count': 286460, 'comment_count': 9335}, {'video_id': 'S5GJ4zvNXz8', 'video_title': 'SIDEMEN TRY NOT TO LAUGH CHALLENGE w/ JACK WHITEHALL', 'upload_date': datetime.date(2018, 1, 28), 'view_count': 13622011, 'like_count': 333570, 'comment_count': 7161}, {'video_id': 'SGWBO_2p_e8', 'video_title': 'SIDEMEN WORLD CUP WIPEOUT CHALLENGE', 'upload_date': datetime.date(2018, 6, 24), 'view_count': 14219855, 'like_count': 315643, 'comment_count': 5362}, {'video_id': 'SSLyfD0kXVY', 'video_title': 'SIDEMEN SILENT CHALLENGE!', 'upload_date': datetime.date(2018, 3, 4), 'view_count': 23047556, 'like_count': 406831, 'comment_count': 8864}, {'video_id': 't2XD6SuQFIE', 'video_title': 'SIDEMEN COME DINE WITH ME', 'upload_date': datetime.date(2020, 4, 5), 'view_count': 19145678, 'like_count': 422473, 'comment_count': 34507}, {'video_id': 't6weHm9HclQ', 'video_title': 'SIDEMEN EXTREME PUNISHMENT POOL', 'upload_date': datetime.date(2021, 7, 25), 'view_count': 12998636, 'like_count': 506615, 'comment_count': 13464}, {'video_id': 'T8ADlJtr4a0', 'video_title': 'SIDEMEN WHEEL OF FORTUNE', 'upload_date': datetime.date(2019, 9, 22), 'view_count': 17212658, 'like_count': 352027, 'comment_count': 13798}, {'video_id': 'tDDEiUX38hc', 'video_title': 'SIDEMEN TINDER IN REAL LIFE', 'upload_date': datetime.date(2019, 6, 9), 'view_count': 40104831, 'like_count': 859550, 'comment_count': 37297}, {'video_id': 'tRB-OU1wVFg', 'video_title': 'SIDEMEN FC VS YOUTUBE ALLSTARS CHARITY MATCH 2018 LIVESTREAM', 'upload_date': datetime.date(2018, 6, 2), 'view_count': 11343948, 'like_count': 183252, 'comment_count': 7458}, {'video_id': 'U3x7tu0HGWA', 'video_title': 'SIDEMEN HOT TUB MUKBANG', 'upload_date': datetime.date(2021, 8, 15), 'view_count': 10837425, 'like_count': 419022, 'comment_count': 15139}, {'video_id': 'UcSdj1_I4bo', 'video_title': 'SIDEMEN HIDE & SEEK ON A PRIVATE ISLAND', 'upload_date': datetime.date(2020, 1, 26), 'view_count': 16190320, 'like_count': 497092, 'comment_count': 18187}, {'video_id': 'ujmxP-GxGek', 'video_title': 'SIDEMEN CRYSTAL MAZE', 'upload_date': datetime.date(2021, 3, 21), 'view_count': 8025644, 'like_count': 363859, 'comment_count': 13302}, {'video_id': 'UkwS_Ju3njI', 'video_title': 'SIDEMEN $10,000 vs $100 MUKBANG', 'upload_date': datetime.date(2021, 5, 16), 'view_count': 16083473, 'like_count': 435406, 'comment_count': 17064}, {'video_id': 'UTVpWVO4vZU', 'video_title': 'SIDEMEN FC VS YOUTUBE ALLSTARS 2018 (Goals & Highlights)', 'upload_date': datetime.date(2018, 6, 2), 'view_count': 14965745, 'like_count': 333326, 'comment_count': 19299}, {'video_id': 'UY3Px46WFfc', 'video_title': 'SIDEMEN 70,000 CALORIES CHALLENGE IN LOCKDOWN', 'upload_date': datetime.date(2020, 6, 7), 'view_count': 24469830, 'like_count': 607197, 'comment_count': 29768}, {'video_id': 'UYulBXIMikg', 'video_title': 'SIDEMEN GOGGLEBOX', 'upload_date': datetime.date(2021, 6, 20), 'view_count': 9390343, 'like_count': 403011, 'comment_count': 13451}, {'video_id': 'vQ7yYR3Kj-I', 'video_title': 'SIDEMEN HIDE & SEEK IN A THEME PARK', 'upload_date': datetime.date(2019, 10, 6), 'view_count': 16498751, 'like_count': 921821, 'comment_count': 15777}, {'video_id': 'VqmdDuYl_g0', 'video_title': 'SIDEMEN LOCKDOWN SHOWDOWN', 'upload_date': datetime.date(2020, 4, 19), 'view_count': 9898482, 'like_count': 293179, 'comment_count': 10089}, {'video_id': 'vr6UKSpuGwI', 'video_title': 'SIDEMEN HIDE & SEEK IN WIRELESS FESTIVAL (GONE WRONG)', 'upload_date': datetime.date(2018, 7, 8), 'view_count': 9521726, 'like_count': 273874, 'comment_count': 4864}, {'video_id': 'VVMCz04CmlA', 'video_title': 'SIDEMEN TOTAL WIPEOUT FOOTBALL CHALLENGE', 'upload_date': datetime.date(2018, 3, 25), 'view_count': 20028805, 'like_count': 371024, 'comment_count': 15429}, {'video_id': 'VYEtNWp5VgA', 'video_title': '20 WOMEN VS 1 SIDEMEN: HARRY EDITION', 'upload_date': datetime.date(2021, 2, 28), 'view_count': 24983696, 'like_count': 1191177, 'comment_count': 67638}, {'video_id': 'w_SWVBwcpdE', 'video_title': 'SIDEMEN FALL GUYS IN REAL LIFE', 'upload_date': datetime.date(2020, 9, 13), 'view_count': 12447785, 'like_count': 751658, 'comment_count': 25543}, {'video_id': 'wFUh2id9ulo', 'video_title': 'SIDEMEN SECRET SANTA!!!', 'upload_date': datetime.date(2018, 12, 23), 'view_count': 16145678, 'like_count': 305223, 'comment_count': 8523}, {'video_id': 'wpU9fPso8h0', 'video_title': 'THE SIDEMEN BAKE OFF', 'upload_date': datetime.date(2019, 2, 11), 'view_count': 32187099, 'like_count': 676437, 'comment_count': 25452}, {'video_id': 'WSKAIKqXYqE', 'video_title': 'SIDEMEN BUYING ONE COLOUR FOR 24 HOURS', 'upload_date': datetime.date(2021, 8, 1), 'view_count': 15764604, 'like_count': 482830, 'comment_count': 19268}, {'video_id': 'wufks28CiYw', 'video_title': 'SIDEMEN WHO WANTS TO BE A MILLIONAIRE 2', 'upload_date': datetime.date(2021, 10, 17), 'view_count': 13454560, 'like_count': 425380, 'comment_count': 15437}, {'video_id': 'wYfYdrd6fqI', 'video_title': 'THE ROAST OF THE SIDEMEN', 'upload_date': datetime.date(2019, 10, 13), 'view_count': 38376004, 'like_count': 1007088, 'comment_count': 30736}, {'video_id': 'XEs94uC8Ul0', 'video_title': 'SIDEMEN $20,000 REAL LIFE BINGO IN LOCKDOWN', 'upload_date': datetime.date(2020, 6, 14), 'view_count': 8246662, 'like_count': 419748, 'comment_count': 26079}, {'video_id': 'xP8y54cbyk0', 'video_title': 'SIDEMEN THAT FINDS $250,000 LAMBORGHINI WINS IT', 'upload_date': datetime.date(2022, 1, 30), 'view_count': 6352325, 'like_count': 385047, 'comment_count': 13557}, {'video_id': 'XRbByev0O_0', 'video_title': 'EXTREME FORFEIT SIDEMEN QUIZ', 'upload_date': datetime.date(2018, 10, 21), 'view_count': 16755121, 'like_count': 324914, 'comment_count': 6166}, {'video_id': 'xt8FLJqmwF0', 'video_title': 'SIDEMEN CARPOOL DISS TRACK KARAOKE', 'upload_date': datetime.date(2018, 8, 12), 'view_count': 20330942, 'like_count': 498688, 'comment_count': 22118}, {'video_id': 'XuSoqUO2kYs', 'video_title': 'SIDEMEN STRENGTH TEST', 'upload_date': datetime.date(2019, 6, 3), 'view_count': 20842760, 'like_count': 541182, 'comment_count': 17672}, {'video_id': 'XwAHSeAjDF0', 'video_title': 'SIDEMEN WORLDS MOST EXPENSIVE MUKBANG', 'upload_date': datetime.date(2021, 2, 21), 'view_count': 15966128, 'like_count': 490169, 'comment_count': 21878}, {'video_id': 'xYsJLjf8jt0', 'video_title': 'SIDEMEN £500 CAR CHALLENGE', 'upload_date': datetime.date(2021, 10, 10), 'view_count': 15969097, 'like_count': 503725, 'comment_count': 16961}, {'video_id': 'XzjUPs956ME', 'video_title': 'SIDEMEN ESCAPE ROOM', 'upload_date': datetime.date(2020, 3, 22), 'view_count': 16175645, 'like_count': 435210, 'comment_count': 17070}, {'video_id': 'y_ZibIWNKoM', 'video_title': 'SIDEMEN FC VS YOUTUBE ALLSTARS HIGHLIGHTS 2017', 'upload_date': datetime.date(2017, 5, 21), 'view_count': 4298165, 'like_count': 96352, 'comment_count': 5807}, {'video_id': 'y9Fne3oUwX4', 'video_title': 'SIDEMEN $20,000 A-Z EATING CHALLENGE', 'upload_date': datetime.date(2020, 10, 11), 'view_count': 19408174, 'like_count': 578393, 'comment_count': 17804}, {'video_id': 'yCQ9ymHhPdA', 'video_title': 'SIDEMEN HIDE AND SEEK ON A JUMBO JET', 'upload_date': datetime.date(2021, 7, 4), 'view_count': 11360436, 'like_count': 553348, 'comment_count': 13859}, {'video_id': 'yHGQVWefrkk', 'video_title': 'SIDEMEN $10 MILLION MANSION HIDE AND SEEK', 'upload_date': datetime.date(2018, 4, 17), 'view_count': 15909137, 'like_count': 352316, 'comment_count': 11212}, {'video_id': 'yHlcV1CZBiM', 'video_title': 'SIDEMEN FOOTBALL FEAR PONG', 'upload_date': datetime.date(2019, 9, 8), 'view_count': 16112076, 'like_count': 333129, 'comment_count': 10306}, {'video_id': 'yL36CxVzVNI', 'video_title': 'SIDEMEN $10,000 vs $10 TAKEAWAY', 'upload_date': datetime.date(2020, 8, 2), 'view_count': 10854710, 'like_count': 445430, 'comment_count': 17648}, {'video_id': 'YyYnll7LjW4', 'video_title': 'SIDEMEN MAKE A SONG IN 24 HOURS CHALLENGE', 'upload_date': datetime.date(2019, 12, 15), 'view_count': 16813992, 'like_count': 511896, 'comment_count': 26541}, {'video_id': 'zi6BQRG5xH0', 'video_title': 'SIDEMEN $10,000 VS $100 ROAD TRIP', 'upload_date': datetime.date(2019, 9, 29), 'view_count': 42909047, 'like_count': 1353598, 'comment_count': 46147}, {'video_id': 'zijF6-hXVdQ', 'video_title': 'SIDEMEN EXTREME ROBOT WARS (BATTLE BOTS)', 'upload_date': datetime.date(2021, 11, 21), 'view_count': 6048282, 'like_count': 345487, 'comment_count': 9577}, {'video_id': 'zjTJ_1pv_N0', 'video_title': 'SIDEMEN ONE WORD INTERVIEW', 'upload_date': datetime.date(2019, 1, 20), 'view_count': 20905315, 'like_count': 394589, 'comment_count': 10632}, {'video_id': 'ZKUDVKuiGtE', 'video_title': 'SIDEMEN TALENT SHOW', 'upload_date': datetime.date(2020, 5, 17), 'view_count': 9321395, 'like_count': 410222, 'comment_count': 17614}, {'video_id': 'zn9vPzAZp3Y', 'video_title': 'SIDEMEN TOTAL WIPEOUT CHALLENGE', 'upload_date': datetime.date(2019, 8, 11), 'view_count': 28833133, 'like_count': 765640, 'comment_count': 22744}, {'video_id': 'zOi3XKWg_3k', 'video_title': 'SIDEMEN SPORTS DAY', 'upload_date': datetime.date(2019, 4, 14), 'view_count': 10812814, 'like_count': 222434, 'comment_count': 7747}]\n"
     ]
    }
   ],
   "source": [
    "curr.execute(\"SELECT * FROM videos\")\n",
    "print(curr.fetchall())"
   ]
  },
  {
   "cell_type": "code",
   "execution_count": 88,
   "metadata": {},
   "outputs": [
    {
     "data": {
      "text/plain": [
       "197"
      ]
     },
     "execution_count": 88,
     "metadata": {},
     "output_type": "execute_result"
    }
   ],
   "source": []
  },
  {
   "cell_type": "code",
   "execution_count": null,
   "metadata": {},
   "outputs": [],
   "source": []
  }
 ],
 "metadata": {
  "interpreter": {
   "hash": "03984295a48a56452944e8b9eff1b05096aabf2f2be5c40a46c443b83fa5cbe9"
  },
  "kernelspec": {
   "display_name": "Python 3.9.6 64-bit",
   "language": "python",
   "name": "python3"
  },
  "language_info": {
   "codemirror_mode": {
    "name": "ipython",
    "version": 3
   },
   "file_extension": ".py",
   "mimetype": "text/x-python",
   "name": "python",
   "nbconvert_exporter": "python",
   "pygments_lexer": "ipython3",
   "version": "3.9.6"
  },
  "orig_nbformat": 4
 },
 "nbformat": 4,
 "nbformat_minor": 2
}
